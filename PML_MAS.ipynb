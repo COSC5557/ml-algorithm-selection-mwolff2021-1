{
  "nbformat": 4,
  "nbformat_minor": 0,
  "metadata": {
    "colab": {
      "provenance": []
    },
    "kernelspec": {
      "name": "python3",
      "display_name": "Python 3"
    },
    "language_info": {
      "name": "python"
    }
  },
  "cells": [
    {
      "cell_type": "code",
      "execution_count": 4,
      "metadata": {
        "colab": {
          "base_uri": "https://localhost:8080/"
        },
        "id": "iW0ZpU36GM8S",
        "outputId": "b3e5ff06-c051-4b21-f0a6-e10ba27d38a5"
      },
      "outputs": [
        {
          "output_type": "stream",
          "name": "stdout",
          "text": [
            "Requirement already satisfied: scikit-learn in /usr/local/lib/python3.10/dist-packages (1.4.2)\n",
            "Requirement already satisfied: numpy>=1.19.5 in /usr/local/lib/python3.10/dist-packages (from scikit-learn) (1.25.2)\n",
            "Requirement already satisfied: scipy>=1.6.0 in /usr/local/lib/python3.10/dist-packages (from scikit-learn) (1.11.4)\n",
            "Requirement already satisfied: joblib>=1.2.0 in /usr/local/lib/python3.10/dist-packages (from scikit-learn) (1.4.0)\n",
            "Requirement already satisfied: threadpoolctl>=2.0.0 in /usr/local/lib/python3.10/dist-packages (from scikit-learn) (3.5.0)\n",
            "Requirement already satisfied: pandas in /usr/local/lib/python3.10/dist-packages (2.0.3)\n",
            "Requirement already satisfied: python-dateutil>=2.8.2 in /usr/local/lib/python3.10/dist-packages (from pandas) (2.8.2)\n",
            "Requirement already satisfied: pytz>=2020.1 in /usr/local/lib/python3.10/dist-packages (from pandas) (2023.4)\n",
            "Requirement already satisfied: tzdata>=2022.1 in /usr/local/lib/python3.10/dist-packages (from pandas) (2024.1)\n",
            "Requirement already satisfied: numpy>=1.21.0 in /usr/local/lib/python3.10/dist-packages (from pandas) (1.25.2)\n",
            "Requirement already satisfied: six>=1.5 in /usr/local/lib/python3.10/dist-packages (from python-dateutil>=2.8.2->pandas) (1.16.0)\n"
          ]
        }
      ],
      "source": [
        "#suppress warnings about class imbalances\n",
        "import warnings\n",
        "warnings.filterwarnings(\"ignore\")\n",
        "\n",
        "#install and import packages\n",
        "!pip install --upgrade scikit-learn\n",
        "!pip install pandas\n",
        "import pandas as pd\n",
        "import numpy as np\n",
        "import matplotlib.pyplot as plt\n",
        "\n",
        "#import models, packages\n",
        "import sklearn\n",
        "from sklearn import linear_model, ensemble, neural_network\n",
        "from sklearn.model_selection import cross_val_score\n",
        "from sklearn import model_selection\n",
        "import numpy"
      ]
    },
    {
      "cell_type": "code",
      "source": [
        "#print python version for report\n",
        "!python ‐‐version\n",
        "import sys; print(sys.version)"
      ],
      "metadata": {
        "colab": {
          "base_uri": "https://localhost:8080/"
        },
        "id": "7j0jLe6s2rJ9",
        "outputId": "dbaf4d31-69b9-4669-a723-7c61c8dcb03d"
      },
      "execution_count": 5,
      "outputs": [
        {
          "output_type": "stream",
          "name": "stdout",
          "text": [
            "python3: can't open file '/content/‐‐version': [Errno 2] No such file or directory\n",
            "3.10.12 (main, Nov 20 2023, 15:14:05) [GCC 11.4.0]\n"
          ]
        }
      ]
    },
    {
      "cell_type": "code",
      "source": [
        "#read and display data\n",
        "data = pd.read_csv(\"/content/winequality-red.csv\", sep = \";\")"
      ],
      "metadata": {
        "id": "Omx_JIMtGXcF"
      },
      "execution_count": 6,
      "outputs": []
    },
    {
      "cell_type": "code",
      "source": [
        "#split into features/target\n",
        "x = data.drop(columns = ['quality'])\n",
        "y = data['quality']"
      ],
      "metadata": {
        "id": "BWn1T2ncGnV1"
      },
      "execution_count": 7,
      "outputs": []
    },
    {
      "cell_type": "code",
      "source": [
        "#models to compare\n",
        "models = [linear_model.RidgeClassifier(), ensemble.AdaBoostClassifier(), ensemble.BaggingClassifier(), ensemble.RandomForestClassifier(), linear_model.LogisticRegression(), linear_model.Perceptron(), linear_model.SGDClassifier(), neural_network.MLPClassifier(420, 'relu',)]\n",
        "model_names = [\"Ridge Classifier\", \"AdaBoost Classifier\", \"Bagging Classifier\",\n",
        "               \"RandomForest Classifier\", \"Logistic Regression Classifier\",\n",
        "               \"Perceptron Classifier\", \"SGD Classifier\", \"MLP Classifier\"]\n",
        "\n",
        "max_score = 0\n",
        "best = None\n",
        "\n",
        "#compare models\n",
        "for i in range(len(models)):\n",
        "    m = models[i]\n",
        "    #10-fold cross-validation to determine best parameters\n",
        "    scores = sklearn.model_selection.cross_validate(m, x, y, cv=10, scoring = \"balanced_accuracy\", return_estimator=True)\n",
        "    best_score = list(scores[\"test_score\"]).index(max(scores[\"test_score\"]))\n",
        "    best_estimator = scores[\"estimator\"][best_score]\n",
        "    avg_performance = np.mean(scores[\"test_score\"])\n",
        "    print(model_names[i] + \"{:.4f}\".format(avg_performance) + \" $pm$ \"  + \"{:.4f}\".format(np.std(scores[\"test_score\"])))\n",
        "    if avg_performance > max_score:\n",
        "        best = best_estimator\n",
        "        max_score = avg_performance\n",
        "#print name of best model\n",
        "print(max_score, best)"
      ],
      "metadata": {
        "colab": {
          "base_uri": "https://localhost:8080/"
        },
        "id": "rvOVsNcIMidR",
        "outputId": "618afe82-313c-43e4-ae3b-ec0d6472375a"
      },
      "execution_count": 13,
      "outputs": [
        {
          "output_type": "stream",
          "name": "stdout",
          "text": [
            "Ridge Classifier0.2299 $pm$ 0.0271\n",
            "AdaBoost Classifier0.2649 $pm$ 0.0769\n",
            "Bagging Classifier0.2582 $pm$ 0.0475\n",
            "RandomForest Classifier0.2932 $pm$ 0.0394\n",
            "Logistic Regression Classifier0.2370 $pm$ 0.0243\n",
            "Perceptron Classifier0.2144 $pm$ 0.0573\n",
            "SGD Classifier0.2531 $pm$ 0.0554\n",
            "MLP Classifier0.2453 $pm$ 0.0280\n",
            "0.29324839610392844 RandomForestClassifier()\n"
          ]
        }
      ]
    },
    {
      "cell_type": "code",
      "source": [
        "#plot confusion matrix to visualize true/false positives/negatives among classes\n",
        "fig, ax = plt.subplots(figsize=(10, 5))\n",
        "x_train, x_test, y_train, y_test = sklearn.model_selection.train_test_split(x, y, test_size=0.2, random_state=42)\n",
        "fitted = best.fit(x_train, y_train)\n",
        "y_pred = fitted.predict(x_test)\n",
        "sklearn.metrics.ConfusionMatrixDisplay.from_predictions(y_test, y_pred, ax=ax)"
      ],
      "metadata": {
        "colab": {
          "base_uri": "https://localhost:8080/",
          "height": 483
        },
        "id": "g-TBX0qcHkNB",
        "outputId": "52176175-06c7-430c-99ac-c5675f62bdfa"
      },
      "execution_count": 15,
      "outputs": [
        {
          "output_type": "execute_result",
          "data": {
            "text/plain": [
              "<sklearn.metrics._plot.confusion_matrix.ConfusionMatrixDisplay at 0x7e0445359180>"
            ]
          },
          "metadata": {},
          "execution_count": 15
        },
        {
          "output_type": "display_data",
          "data": {
            "text/plain": [
              "<Figure size 1000x500 with 2 Axes>"
            ],
            "image/png": "[encoded data removed]"
          },
          "metadata": {}
        }
      ]
    },
    {
      "cell_type": "code",
      "source": [],
      "metadata": {
        "id": "8KEFZ_F1cb_d"
      },
      "execution_count": null,
      "outputs": []
    }
  ]
}