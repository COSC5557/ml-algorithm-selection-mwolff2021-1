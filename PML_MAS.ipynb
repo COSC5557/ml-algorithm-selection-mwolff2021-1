{
  "nbformat": 4,
  "nbformat_minor": 0,
  "metadata": {
    "colab": {
      "provenance": []
    },
    "kernelspec": {
      "name": "python3",
      "display_name": "Python 3"
    },
    "language_info": {
      "name": "python"
    }
  },
  "cells": [
    {
      "cell_type": "code",
      "execution_count": 1,
      "metadata": {
        "colab": {
          "base_uri": "https://localhost:8080/"
        },
        "id": "iW0ZpU36GM8S",
        "outputId": "fc593b48-778b-4592-b276-9c7dc757165a"
      },
      "outputs": [
        {
          "output_type": "stream",
          "name": "stdout",
          "text": [
            "Requirement already satisfied: scikit-learn in /usr/local/lib/python3.10/dist-packages (1.2.2)\n",
            "Collecting scikit-learn\n",
            "  Downloading scikit_learn-1.4.2-cp310-cp310-manylinux_2_17_x86_64.manylinux2014_x86_64.whl (12.1 MB)\n",
            "\u001b[2K     \u001b[90m━━━━━━━━━━━━━━━━━━━━━━━━━━━━━━━━━━━━━━━━\u001b[0m \u001b[32m12.1/12.1 MB\u001b[0m \u001b[31m23.6 MB/s\u001b[0m eta \u001b[36m0:00:00\u001b[0m\n",
            "\u001b[?25hRequirement already satisfied: numpy>=1.19.5 in /usr/local/lib/python3.10/dist-packages (from scikit-learn) (1.25.2)\n",
            "Requirement already satisfied: scipy>=1.6.0 in /usr/local/lib/python3.10/dist-packages (from scikit-learn) (1.11.4)\n",
            "Requirement already satisfied: joblib>=1.2.0 in /usr/local/lib/python3.10/dist-packages (from scikit-learn) (1.4.0)\n",
            "Requirement already satisfied: threadpoolctl>=2.0.0 in /usr/local/lib/python3.10/dist-packages (from scikit-learn) (3.4.0)\n",
            "Installing collected packages: scikit-learn\n",
            "  Attempting uninstall: scikit-learn\n",
            "    Found existing installation: scikit-learn 1.2.2\n",
            "    Uninstalling scikit-learn-1.2.2:\n",
            "      Successfully uninstalled scikit-learn-1.2.2\n",
            "Successfully installed scikit-learn-1.4.2\n",
            "Requirement already satisfied: pandas in /usr/local/lib/python3.10/dist-packages (2.0.3)\n",
            "Requirement already satisfied: python-dateutil>=2.8.2 in /usr/local/lib/python3.10/dist-packages (from pandas) (2.8.2)\n",
            "Requirement already satisfied: pytz>=2020.1 in /usr/local/lib/python3.10/dist-packages (from pandas) (2023.4)\n",
            "Requirement already satisfied: tzdata>=2022.1 in /usr/local/lib/python3.10/dist-packages (from pandas) (2024.1)\n",
            "Requirement already satisfied: numpy>=1.21.0 in /usr/local/lib/python3.10/dist-packages (from pandas) (1.25.2)\n",
            "Requirement already satisfied: six>=1.5 in /usr/local/lib/python3.10/dist-packages (from python-dateutil>=2.8.2->pandas) (1.16.0)\n"
          ]
        }
      ],
      "source": [
        "#suppress warnings about class imbalances\n",
        "import warnings\n",
        "warnings.filterwarnings(\"ignore\")\n",
        "\n",
        "#install and import packages\n",
        "!pip install --upgrade scikit-learn\n",
        "!pip install pandas\n",
        "import pandas as pd\n",
        "import numpy as np\n",
        "import matplotlib.pyplot as plt\n",
        "\n",
        "#import models, packages\n",
        "import sklearn\n",
        "from sklearn import linear_model, ensemble, neural_network\n",
        "from sklearn.model_selection import cross_val_score\n",
        "from sklearn import model_selection\n",
        "import numpy"
      ]
    },
    {
      "cell_type": "code",
      "source": [
        "#print python version for report\n",
        "!python ‐‐version\n",
        "import sys; print(sys.version)"
      ],
      "metadata": {
        "colab": {
          "base_uri": "https://localhost:8080/"
        },
        "id": "7j0jLe6s2rJ9",
        "outputId": "41701dd4-ce13-4b6f-feb1-e597e1445f86"
      },
      "execution_count": 2,
      "outputs": [
        {
          "output_type": "stream",
          "name": "stdout",
          "text": [
            "python3: can't open file '/content/‐‐version': [Errno 2] No such file or directory\n",
            "3.10.12 (main, Nov 20 2023, 15:14:05) [GCC 11.4.0]\n"
          ]
        }
      ]
    },
    {
      "cell_type": "code",
      "source": [
        "#read and display data\n",
        "data = pd.read_csv(\"/content/winequality-red.csv\", sep = \";\")"
      ],
      "metadata": {
        "id": "Omx_JIMtGXcF"
      },
      "execution_count": 3,
      "outputs": []
    },
    {
      "cell_type": "code",
      "source": [
        "#split into features/target\n",
        "x = data.drop(columns = ['quality'])\n",
        "#attempted normalization at one point but this step yielded lower performance\n",
        "#x_norm = sklearn.preprocessing.normalize(x, axis=0)\n",
        "y = data['quality']"
      ],
      "metadata": {
        "id": "BWn1T2ncGnV1"
      },
      "execution_count": 4,
      "outputs": []
    },
    {
      "cell_type": "code",
      "source": [
        "#function to report relevant metrics\n",
        "def return_metrics(y_test, y_pred):\n",
        "  from sklearn import metrics\n",
        "  print(\"Accuracy\", metrics.accuracy_score(y_test, y_pred))\n",
        "  print(\"Balanced Accuracy\", metrics.balanced_accuracy_score(y_test, y_pred))\n",
        "  return metrics.balanced_accuracy_score(y_test, y_pred)"
      ],
      "metadata": {
        "id": "uVkZ0jkSYq5a"
      },
      "execution_count": 5,
      "outputs": []
    },
    {
      "cell_type": "code",
      "source": [
        "#models to compare\n",
        "models = [linear_model.RidgeClassifier(), ensemble.AdaBoostClassifier(), ensemble.BaggingClassifier(), ensemble.RandomForestClassifier(), linear_model.LogisticRegression(), linear_model.Perceptron(), linear_model.SGDClassifier(), neural_network.MLPClassifier(420, 'relu',)]\n",
        "model_names = [\"Ridge Classifier\", \"AdaBoost Classifier\", \"Bagging Classifier\",\n",
        "               \"RandomForest Classifier\", \"Logistic Regression Classifier\",\n",
        "               \"Perceptron Classifier\", \"SGD Classifier\", \"MLP Classifier\"]\n",
        "\n",
        "max_score = 0\n",
        "max_index = 0\n",
        "\n",
        "best_y_pred = None\n",
        "best_y_test = None\n",
        "\n",
        "#compare models\n",
        "for i in range(len(models)):\n",
        "  y_preds = []\n",
        "  y_tests = []\n",
        "  #five trials for each\n",
        "  for j in range(0, 5):\n",
        "    x_train, x_test, y_train, y_test = sklearn.model_selection.train_test_split(\n",
        "      x, y, test_size=0.2, random_state=j)\n",
        "    m = models[i]\n",
        "    #10-fold cross-validation to determine best parameters\n",
        "    scores = sklearn.model_selection.cross_validate(m, x_train, y_train, cv=10, scoring = \"balanced_accuracy\", return_estimator=True)\n",
        "    best = list(scores[\"test_score\"]).index(max(scores[\"test_score\"]))\n",
        "    best_model = scores[\"estimator\"][best]\n",
        "    y_pred = best_model.predict(x_test)\n",
        "    y_preds.extend(y_pred)\n",
        "    y_tests.extend(y_test)\n",
        "  print(models[i])\n",
        "  model_metrics = return_metrics(y_tests, y_preds)\n",
        "  if model_metrics > max_score:\n",
        "    max_score = model_metrics\n",
        "    max_index = i\n",
        "    best_y_pred = y_preds\n",
        "    best_y_test = y_tests\n",
        "#print name of best model\n",
        "print(max_score, model_names[max_index])"
      ],
      "metadata": {
        "colab": {
          "base_uri": "https://localhost:8080/"
        },
        "id": "rvOVsNcIMidR",
        "outputId": "4527b6df-29ae-419c-dce4-cf624b00459b"
      },
      "execution_count": 8,
      "outputs": [
        {
          "output_type": "stream",
          "name": "stdout",
          "text": [
            "RidgeClassifier()\n",
            "Accuracy 0.591875\n",
            "Balanced Accuracy 0.23308138416893923\n",
            "AdaBoostClassifier()\n",
            "Accuracy 0.524375\n",
            "Balanced Accuracy 0.28976234950661617\n",
            "BaggingClassifier()\n",
            "Accuracy 0.67875\n",
            "Balanced Accuracy 0.37721995934372843\n",
            "RandomForestClassifier()\n",
            "Accuracy 0.70625\n",
            "Balanced Accuracy 0.3695238706292412\n",
            "LogisticRegression()\n",
            "Accuracy 0.60375\n",
            "Balanced Accuracy 0.24282387698104202\n",
            "Perceptron()\n",
            "Accuracy 0.420625\n",
            "Balanced Accuracy 0.25139966045155215\n",
            "SGDClassifier()\n",
            "Accuracy 0.33125\n",
            "Balanced Accuracy 0.24626942737447402\n",
            "MLPClassifier(hidden_layer_sizes=420)\n",
            "Accuracy 0.58875\n",
            "Balanced Accuracy 0.2957317618677427\n",
            "0.37721995934372843 Bagging Classifier\n"
          ]
        }
      ]
    },
    {
      "cell_type": "code",
      "source": [
        "#plot confusion matrix to visualize true/false positives/negatives among classes\n",
        "fig, ax = plt.subplots(figsize=(10, 5))\n",
        "sklearn.metrics.ConfusionMatrixDisplay.from_predictions(best_y_test, best_y_pred, ax=ax)"
      ],
      "metadata": {
        "colab": {
          "base_uri": "https://localhost:8080/",
          "height": 482
        },
        "id": "g-TBX0qcHkNB",
        "outputId": "d63548d9-1b82-4ca6-f9e3-a30cf93545df"
      },
      "execution_count": 7,
      "outputs": [
        {
          "output_type": "execute_result",
          "data": {
            "text/plain": [
              "<sklearn.metrics._plot.confusion_matrix.ConfusionMatrixDisplay at 0x7d1e1898a830>"
            ]
          },
          "metadata": {},
          "execution_count": 7
        },
        {
          "output_type": "display_data",
          "data": {
            "text/plain": [
              "<Figure size 1000x500 with 2 Axes>"
            ],
            "image/png": "[encoded data removed]"
          },
          "metadata": {}
        }
      ]
    }
  ]
}